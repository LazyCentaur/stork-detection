{
 "cells": [
  {
   "cell_type": "code",
   "execution_count": 1,
   "metadata": {},
   "outputs": [
    {
     "name": "stderr",
     "output_type": "stream",
     "text": [
      "/Users/martaadmin/Documents/stork-watch-project/venv/lib/python3.9/site-packages/urllib3/__init__.py:35: NotOpenSSLWarning: urllib3 v2 only supports OpenSSL 1.1.1+, currently the 'ssl' module is compiled with 'LibreSSL 2.8.3'. See: https://github.com/urllib3/urllib3/issues/3020\n",
      "  warnings.warn(\n"
     ]
    },
    {
     "name": "stdout",
     "output_type": "stream",
     "text": [
      "Obteniendo la URL del stream, esto puede tardar un momento...\n",
      "[youtube] Extracting URL: https://www.youtube.com/watch?v=i_jiHI3k8ag\n",
      "[youtube] i_jiHI3k8ag: Downloading webpage\n",
      "[youtube] i_jiHI3k8ag: Downloading tv client config\n",
      "[youtube] i_jiHI3k8ag: Downloading tv player API JSON\n",
      "[youtube] i_jiHI3k8ag: Downloading ios player API JSON\n",
      "[youtube] i_jiHI3k8ag: Downloading m3u8 information\n",
      "[youtube] i_jiHI3k8ag: Downloading m3u8 information\n",
      "URL del stream obtenida con éxito. Abriendo con OpenCV...\n",
      "¡Capturado y guardado! -> data/raw_images/sample_frame_000.jpg\n",
      "Avanzando en el stream... (esperando 60 segundos)\n",
      "¡Capturado y guardado! -> data/raw_images/sample_frame_001.jpg\n",
      "Avanzando en el stream... (esperando 60 segundos)\n",
      "¡Capturado y guardado! -> data/raw_images/sample_frame_002.jpg\n",
      "Avanzando en el stream... (esperando 60 segundos)\n",
      "¡Capturado y guardado! -> data/raw_images/sample_frame_003.jpg\n",
      "Avanzando en el stream... (esperando 60 segundos)\n",
      "¡Capturado y guardado! -> data/raw_images/sample_frame_004.jpg\n",
      "Avanzando en el stream... (esperando 60 segundos)\n",
      "¡Capturado y guardado! -> data/raw_images/sample_frame_005.jpg\n",
      "Avanzando en el stream... (esperando 60 segundos)\n"
     ]
    },
    {
     "name": "stderr",
     "output_type": "stream",
     "text": [
      "[tls @ 0x1476520e0] Error in the pull function.\n",
      "[tls @ 0x1476520e0] IO error: End of file\n"
     ]
    },
    {
     "name": "stdout",
     "output_type": "stream",
     "text": [
      "¡Capturado y guardado! -> data/raw_images/sample_frame_006.jpg\n",
      "Avanzando en el stream... (esperando 60 segundos)\n",
      "¡Capturado y guardado! -> data/raw_images/sample_frame_007.jpg\n",
      "Avanzando en el stream... (esperando 60 segundos)\n",
      "¡Capturado y guardado! -> data/raw_images/sample_frame_008.jpg\n",
      "Avanzando en el stream... (esperando 60 segundos)\n"
     ]
    },
    {
     "name": "stderr",
     "output_type": "stream",
     "text": [
      "[tls @ 0x147438b10] Error in the pull function.\n",
      "[tls @ 0x147438b10] IO error: End of file\n"
     ]
    },
    {
     "name": "stdout",
     "output_type": "stream",
     "text": [
      "¡Capturado y guardado! -> data/raw_images/sample_frame_009.jpg\n",
      "Avanzando en el stream... (esperando 60 segundos)\n",
      "¡Capturado y guardado! -> data/raw_images/sample_frame_010.jpg\n",
      "Avanzando en el stream... (esperando 60 segundos)\n",
      "¡Capturado y guardado! -> data/raw_images/sample_frame_011.jpg\n",
      "Avanzando en el stream... (esperando 60 segundos)\n",
      "¡Capturado y guardado! -> data/raw_images/sample_frame_012.jpg\n",
      "Avanzando en el stream... (esperando 60 segundos)\n"
     ]
    },
    {
     "name": "stderr",
     "output_type": "stream",
     "text": [
      "[tls @ 0x122db8bc0] Error in the pull function.\n",
      "[tls @ 0x122db8bc0] IO error: End of file\n"
     ]
    },
    {
     "name": "stdout",
     "output_type": "stream",
     "text": [
      "¡Capturado y guardado! -> data/raw_images/sample_frame_013.jpg\n",
      "Avanzando en el stream... (esperando 60 segundos)\n",
      "¡Capturado y guardado! -> data/raw_images/sample_frame_014.jpg\n",
      "Avanzando en el stream... (esperando 60 segundos)\n",
      "¡Capturado y guardado! -> data/raw_images/sample_frame_015.jpg\n",
      "Avanzando en el stream... (esperando 60 segundos)\n"
     ]
    },
    {
     "name": "stderr",
     "output_type": "stream",
     "text": [
      "[tls @ 0x13660a3d0] Error in the pull function.\n",
      "[tls @ 0x13660a3d0] IO error: End of file\n"
     ]
    },
    {
     "name": "stdout",
     "output_type": "stream",
     "text": [
      "¡Capturado y guardado! -> data/raw_images/sample_frame_016.jpg\n",
      "Avanzando en el stream... (esperando 60 segundos)\n",
      "¡Capturado y guardado! -> data/raw_images/sample_frame_017.jpg\n",
      "Avanzando en el stream... (esperando 60 segundos)\n",
      "¡Capturado y guardado! -> data/raw_images/sample_frame_018.jpg\n",
      "Avanzando en el stream... (esperando 60 segundos)\n"
     ]
    },
    {
     "name": "stderr",
     "output_type": "stream",
     "text": [
      "[tls @ 0x123220920] Error in the pull function.\n",
      "[tls @ 0x123220920] IO error: End of file\n"
     ]
    },
    {
     "name": "stdout",
     "output_type": "stream",
     "text": [
      "¡Capturado y guardado! -> data/raw_images/sample_frame_019.jpg\n",
      "Avanzando en el stream... (esperando 60 segundos)\n",
      "¡Capturado y guardado! -> data/raw_images/sample_frame_020.jpg\n",
      "Avanzando en el stream... (esperando 60 segundos)\n",
      "¡Capturado y guardado! -> data/raw_images/sample_frame_021.jpg\n",
      "Avanzando en el stream... (esperando 60 segundos)\n"
     ]
    },
    {
     "name": "stderr",
     "output_type": "stream",
     "text": [
      "[tls @ 0x147438a30] Error in the pull function.\n",
      "[tls @ 0x147438a30] IO error: End of file\n"
     ]
    },
    {
     "name": "stdout",
     "output_type": "stream",
     "text": [
      "¡Capturado y guardado! -> data/raw_images/sample_frame_022.jpg\n",
      "Avanzando en el stream... (esperando 60 segundos)\n",
      "¡Capturado y guardado! -> data/raw_images/sample_frame_023.jpg\n",
      "Avanzando en el stream... (esperando 60 segundos)\n",
      "¡Capturado y guardado! -> data/raw_images/sample_frame_024.jpg\n",
      "Avanzando en el stream... (esperando 60 segundos)\n",
      "¡Capturado y guardado! -> data/raw_images/sample_frame_025.jpg\n",
      "Avanzando en el stream... (esperando 60 segundos)\n",
      "¡Capturado y guardado! -> data/raw_images/sample_frame_026.jpg\n",
      "Avanzando en el stream... (esperando 60 segundos)\n"
     ]
    },
    {
     "name": "stderr",
     "output_type": "stream",
     "text": [
      "[tls @ 0x12335e440] Error in the pull function.\n",
      "[tls @ 0x12335e440] IO error: End of file\n"
     ]
    },
    {
     "name": "stdout",
     "output_type": "stream",
     "text": [
      "¡Capturado y guardado! -> data/raw_images/sample_frame_027.jpg\n",
      "Avanzando en el stream... (esperando 60 segundos)\n",
      "¡Capturado y guardado! -> data/raw_images/sample_frame_028.jpg\n",
      "Avanzando en el stream... (esperando 60 segundos)\n",
      "¡Capturado y guardado! -> data/raw_images/sample_frame_029.jpg\n",
      "Avanzando en el stream... (esperando 60 segundos)\n"
     ]
    },
    {
     "name": "stderr",
     "output_type": "stream",
     "text": [
      "[tls @ 0x122fa3000] Error in the pull function.\n",
      "[tls @ 0x122fa3000] IO error: End of file\n"
     ]
    },
    {
     "name": "stdout",
     "output_type": "stream",
     "text": [
      "¡Capturado y guardado! -> data/raw_images/sample_frame_030.jpg\n",
      "Avanzando en el stream... (esperando 60 segundos)\n",
      "¡Capturado y guardado! -> data/raw_images/sample_frame_031.jpg\n",
      "Avanzando en el stream... (esperando 60 segundos)\n",
      "¡Capturado y guardado! -> data/raw_images/sample_frame_032.jpg\n",
      "Avanzando en el stream... (esperando 60 segundos)\n"
     ]
    },
    {
     "name": "stderr",
     "output_type": "stream",
     "text": [
      "[tls @ 0x122dbcc70] Error in the pull function.\n",
      "[tls @ 0x122dbcc70] IO error: End of file\n"
     ]
    },
    {
     "name": "stdout",
     "output_type": "stream",
     "text": [
      "¡Capturado y guardado! -> data/raw_images/sample_frame_033.jpg\n",
      "Avanzando en el stream... (esperando 60 segundos)\n",
      "¡Capturado y guardado! -> data/raw_images/sample_frame_034.jpg\n",
      "Avanzando en el stream... (esperando 60 segundos)\n",
      "¡Capturado y guardado! -> data/raw_images/sample_frame_035.jpg\n",
      "Avanzando en el stream... (esperando 60 segundos)\n",
      "¡Capturado y guardado! -> data/raw_images/sample_frame_036.jpg\n",
      "Avanzando en el stream... (esperando 60 segundos)\n"
     ]
    },
    {
     "name": "stderr",
     "output_type": "stream",
     "text": [
      "[tls @ 0x14767e670] Error in the pull function.\n",
      "[tls @ 0x14767e670] IO error: End of file\n"
     ]
    },
    {
     "name": "stdout",
     "output_type": "stream",
     "text": [
      "¡Capturado y guardado! -> data/raw_images/sample_frame_037.jpg\n",
      "Avanzando en el stream... (esperando 60 segundos)\n",
      "¡Capturado y guardado! -> data/raw_images/sample_frame_038.jpg\n",
      "Avanzando en el stream... (esperando 60 segundos)\n",
      "¡Capturado y guardado! -> data/raw_images/sample_frame_039.jpg\n",
      "Avanzando en el stream... (esperando 60 segundos)\n"
     ]
    },
    {
     "name": "stderr",
     "output_type": "stream",
     "text": [
      "[tls @ 0x122dbcc70] Error in the pull function.\n",
      "[tls @ 0x122dbcc70] IO error: End of file\n"
     ]
    },
    {
     "name": "stdout",
     "output_type": "stream",
     "text": [
      "¡Capturado y guardado! -> data/raw_images/sample_frame_040.jpg\n",
      "Avanzando en el stream... (esperando 60 segundos)\n",
      "¡Capturado y guardado! -> data/raw_images/sample_frame_041.jpg\n",
      "Avanzando en el stream... (esperando 60 segundos)\n",
      "¡Capturado y guardado! -> data/raw_images/sample_frame_042.jpg\n",
      "Avanzando en el stream... (esperando 60 segundos)\n"
     ]
    },
    {
     "name": "stderr",
     "output_type": "stream",
     "text": [
      "[tls @ 0x14767e670] Error in the pull function.\n",
      "[tls @ 0x14767e670] IO error: End of file\n"
     ]
    },
    {
     "name": "stdout",
     "output_type": "stream",
     "text": [
      "¡Capturado y guardado! -> data/raw_images/sample_frame_043.jpg\n",
      "Avanzando en el stream... (esperando 60 segundos)\n",
      "¡Capturado y guardado! -> data/raw_images/sample_frame_044.jpg\n",
      "Avanzando en el stream... (esperando 60 segundos)\n",
      "¡Capturado y guardado! -> data/raw_images/sample_frame_045.jpg\n",
      "Avanzando en el stream... (esperando 60 segundos)\n"
     ]
    },
    {
     "name": "stderr",
     "output_type": "stream",
     "text": [
      "[tls @ 0x122ddca60] Error in the pull function.\n",
      "[tls @ 0x122ddca60] IO error: End of file\n"
     ]
    },
    {
     "name": "stdout",
     "output_type": "stream",
     "text": [
      "¡Capturado y guardado! -> data/raw_images/sample_frame_046.jpg\n",
      "Avanzando en el stream... (esperando 60 segundos)\n",
      "¡Capturado y guardado! -> data/raw_images/sample_frame_047.jpg\n",
      "Avanzando en el stream... (esperando 60 segundos)\n",
      "¡Capturado y guardado! -> data/raw_images/sample_frame_048.jpg\n",
      "Avanzando en el stream... (esperando 60 segundos)\n",
      "¡Capturado y guardado! -> data/raw_images/sample_frame_049.jpg\n",
      "\n",
      "Proceso completado. Se capturaron 50 fotogramas de muestra distintos.\n"
     ]
    }
   ],
   "source": [
    "import cv2\n",
    "import yt_dlp\n",
    "import os\n",
    "import time\n",
    "\n",
    "# --- 1. Obtener la URL del Stream en Directo ---\n",
    "\n",
    "video_url = 'https://www.youtube.com/watch?v=i_jiHI3k8ag'\n",
    "ydl_opts = {'format': 'best'}\n",
    "\n",
    "print(\"Obteniendo la URL del stream, esto puede tardar un momento...\")\n",
    "with yt_dlp.YoutubeDL(ydl_opts) as ydl:\n",
    "    info_dict = ydl.extract_info(video_url, download=False)\n",
    "    stream_url = info_dict.get('url', None)\n",
    "\n",
    "if not stream_url:\n",
    "    raise ValueError(\"No se pudo obtener la URL del stream. El directo podría no estar activo o ser privado.\")\n",
    "\n",
    "print(\"URL del stream obtenida con éxito. Abriendo con OpenCV...\")\n",
    "\n",
    "# --- 2. Capturar fotogramas con vaciado de búfer ---\n",
    "\n",
    "output_folder = 'data/raw_images'\n",
    "if not os.path.exists(output_folder):\n",
    "    os.makedirs(output_folder)\n",
    "\n",
    "cap = cv2.VideoCapture(stream_url)\n",
    "\n",
    "frames_to_capture = 50\n",
    "capture_interval_seconds = 60\n",
    "frames_captured = 0\n",
    "\n",
    "# Pausa inicial para que el stream se cargue correctamente\n",
    "time.sleep(2) \n",
    "\n",
    "while cap.isOpened() and frames_captured < frames_to_capture:\n",
    "    # Leemos y guardamos el fotograma actual\n",
    "    success, frame = cap.read()\n",
    "    if not success:\n",
    "        print(\"Error al leer el stream. Reintentando...\")\n",
    "        time.sleep(1)\n",
    "        continue\n",
    "\n",
    "    image_name = f\"sample_frame_{frames_captured:03d}.jpg\"\n",
    "    image_path = os.path.join(output_folder, image_name)\n",
    "    cv2.imwrite(image_path, frame)\n",
    "    print(f\"¡Capturado y guardado! -> {image_path}\")\n",
    "    frames_captured += 1\n",
    "\n",
    "    # Si ya hemos capturado todo, salimos del bucle\n",
    "    if frames_captured >= frames_to_capture:\n",
    "        break\n",
    "\n",
    "    # --- BUCLE PARA VACIAR EL BÚFER Y AVANZAR EN EL TIEMPO ---\n",
    "    # Esta es la parte clave que soluciona el problema.\n",
    "    print(f\"Avanzando en el stream... (esperando {capture_interval_seconds} segundos)\")\n",
    "    start_time = time.time()\n",
    "    while time.time() - start_time < capture_interval_seconds:\n",
    "        # Leemos el siguiente fotograma y lo ignoramos (no lo guardamos).\n",
    "        # Esto fuerza a OpenCV a procesar el vídeo y vaciar el búfer.\n",
    "        cap.read()\n",
    "\n",
    "cap.release()\n",
    "print(f\"\\nProceso completado. Se capturaron {frames_captured} fotogramas de muestra distintos.\")"
   ]
  },
  {
   "cell_type": "code",
   "execution_count": null,
   "metadata": {},
   "outputs": [],
   "source": []
  }
 ],
 "metadata": {
  "kernelspec": {
   "display_name": "Python 3 (ipykernel)",
   "language": "python",
   "name": "python3"
  },
  "language_info": {
   "codemirror_mode": {
    "name": "ipython",
    "version": 3
   },
   "file_extension": ".py",
   "mimetype": "text/x-python",
   "name": "python",
   "nbconvert_exporter": "python",
   "pygments_lexer": "ipython3",
   "version": "3.9.6"
  }
 },
 "nbformat": 4,
 "nbformat_minor": 4
}
